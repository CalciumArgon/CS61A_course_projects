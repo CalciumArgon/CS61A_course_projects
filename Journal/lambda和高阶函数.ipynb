{
 "cells": [
  {
   "cell_type": "markdown",
   "metadata": {},
   "source": [
    "## 高阶函数"
   ]
  },
  {
   "cell_type": "markdown",
   "metadata": {},
   "source": [
    "1. 对于一个函数 f，通过 func_with_abs(f) 来构建出一个新的函数 f_abs，它对于一个给定 x 将会作用于 x 的绝对值。\n",
    "这样考虑这个高阶问题：最外层函数返回的是函数 f_abs（注意没有调用）-> f_abs 的定义是对于给定的 x，将输入的形参 f 作用在 x 的绝对值上。"
   ]
  },
  {
   "cell_type": "code",
   "execution_count": 6,
   "metadata": {},
   "outputs": [
    {
     "name": "stdout",
     "output_type": "stream",
     "text": [
      "<function func_with_abs.<locals>._abs at 0x00000175281B4EE0>\n",
      "64\n"
     ]
    }
   ],
   "source": [
    "def func_with_abs(f):\n",
    "    def f_abs(x):\n",
    "        if x < 0:\n",
    "            return f(-x)\n",
    "        return f(x)\n",
    "    return f_abs\n",
    "f_abs = func_with_abs(lambda x: x**3)\n",
    "print(f_abs)  # 函数本身\n",
    "print(f_abs(-4))    # 对 -4 调用 x**3，得到 4**3"
   ]
  },
  {
   "cell_type": "markdown",
   "metadata": {},
   "source": [
    "2. 两个函数叠加\n",
    "\n",
    "对于 func1(x) 与 func2(x)，func_adder() 输出一个将他们相加的函数，也即 lambda 定义的一个将两函数值相加的新函数"
   ]
  },
  {
   "cell_type": "code",
   "execution_count": null,
   "metadata": {},
   "outputs": [],
   "source": [
    "def func_adder(func1, func2):\n",
    "    '''return the sum of two function'''\n",
    "    return lambda x: func1(x) + func2(x)\n",
    "\n",
    "func1 = lambda x: x**2\n",
    "func2 = lambda x: x**3\n",
    "print(func_adder(func1, func2)(2))"
   ]
  },
  {
   "cell_type": "markdown",
   "metadata": {},
   "source": [
    "* 进一步，更一般地对两个函数操作\n",
    "\n",
    "func_operator(op) 输出一个用 op() 操作符将两个函数值 f1(x) 与 f2(x) 运算的函数"
   ]
  },
  {
   "cell_type": "code",
   "execution_count": null,
   "metadata": {},
   "outputs": [],
   "source": [
    "def func_operator(op):\n",
    "    def operator(f1, f2):\n",
    "        def value(x):\n",
    "            return op(f1(x), f2(x))\n",
    "        return value\n",
    "    return operator\n",
    "\n",
    "def plus(a,b):\n",
    "    return a + b\n",
    "def times(a,b):\n",
    "    return a * b\n",
    "def minus(a,b):\n",
    "    return a - b\n",
    "adder = func_operator(plus)\n",
    "timer = func_operator(times)\n",
    "minuser = func_operator(minus)\n",
    "func1 = lambda x: x**2\n",
    "func2 = lambda x: x**3\n",
    "print(\"(f1+f2)(2) = {}\".format(adder(func1, func2)(2)))   # 4 + 8\n",
    "print(\"(f1*f2)(2) = {}\".format(timer(func1, func2)(2)))   # 4 * 8\n",
    "print(\"(f1-f2)(2) = {}\".format(minuser(func1, func2)(2)))   # 4 - 8\n",
    "\n",
    "#----- 更一般的 -----#\\\n",
    "f1, f2 = lambda x: x**2, lambda x: x**3\n",
    "f1_add_f2 = func_operator(lambda a,b: a+b)(f1, f2)"
   ]
  },
  {
   "cell_type": "markdown",
   "metadata": {},
   "source": [
    "3. 在函数形参中输入函数、逻辑判断\n",
    "\n",
    "要注意 f() 内的形参会对所有operand求值，因此不能引入 1/x ，否则在 x = 0 时 即使有condition的限制，在形参内 1/x 仍然会被计算\n",
    "\n",
    "正确的写法是把 1/x 操作数写成函数放进去，这样只在condition满足时调用函数，形参内只是创建它"
   ]
  },
  {
   "cell_type": "code",
   "execution_count": 6,
   "metadata": {},
   "outputs": [
    {
     "name": "stdout",
     "output_type": "stream",
     "text": [
      "0\n",
      "1.7320508075688772\n",
      "-1\n"
     ]
    }
   ],
   "source": [
    "# 在 condition = True 的情况下运行 func() 函数, 其他情况返回 else_return\n",
    "def f(func, condition, else_return):\n",
    "    return func() if condition else else_return\n",
    "    # 注意 func() 需要被调用否则只返回函数的地址\n",
    "\n",
    "\n",
    "x = 0\n",
    "print(f(lambda: 1/x, x != 0, 0))\n",
    "x = 3\n",
    "print(f(lambda: x+1, x <= 1, x**0.5))\n",
    "x = -2\n",
    "print(f(lambda: x+1, x <= 1, x**0.5))"
   ]
  },
  {
   "cell_type": "markdown",
   "metadata": {},
   "source": [
    "## Lab02中的 hof-wwpd.py 测验分析"
   ]
  }
 ],
 "metadata": {
  "kernelspec": {
   "display_name": "Python 3.9.13 64-bit",
   "language": "python",
   "name": "python3"
  },
  "language_info": {
   "codemirror_mode": {
    "name": "ipython",
    "version": 3
   },
   "file_extension": ".py",
   "mimetype": "text/x-python",
   "name": "python",
   "nbconvert_exporter": "python",
   "pygments_lexer": "ipython3",
   "version": "3.9.13"
  },
  "orig_nbformat": 4,
  "vscode": {
   "interpreter": {
    "hash": "b4833f2e7e025933a2f1007ef25cf8a596c6aa9e08fd7d4be94fb5b9d5956039"
   }
  }
 },
 "nbformat": 4,
 "nbformat_minor": 2
}
