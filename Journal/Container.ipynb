{
 "cells": [
  {
   "attachments": {},
   "cell_type": "markdown",
   "metadata": {},
   "source": [
    "## Container\n",
    "\n",
    "本节的目标是用已有的数据类型/元素（整数 `int` 和函数 `def func`）来构建一种新的数据类型 `(a, b)` 一个我们自己新定义的 pair 类型"
   ]
  },
  {
   "attachments": {},
   "cell_type": "markdown",
   "metadata": {},
   "source": [
    "1. 用整数类型来表示 （a，b）\n",
    "\n",
    "目标是对于某个 pair 类型的数对（a，b），我们期望把它转成一个整数，并通过 `left(p)` 和 `right(p)` 能够返回原 pair 中相应位置的值\n",
    "\n",
    "比如这里用 2 和 3 两个互质的数字将 (a, b) 这种类型转成 int 储存\n",
    "\n",
    "对于这样储存的 int p, 用 `left(p)` 和 `right(p)` 将其解码"
   ]
  },
  {
   "cell_type": "code",
   "execution_count": null,
   "metadata": {},
   "outputs": [],
   "source": [
    "# pair -> int 储存\n",
    "def pair(a, b):\n",
    "    \"\"\" This only work on integers \"\"\"\n",
    "    return 2**a * 3**b\n",
    "\n",
    "# de-coding the int to get original values in pair\n",
    "def left(p):\n",
    "    \"\"\"\n",
    "    p : a pair-type\n",
    "    multiplicity : a de-coding function\n",
    "    \"\"\"\n",
    "    return multiplicity(2, p)\n",
    "\n",
    "def right(p):\n",
    "    return multiplicity(3, p)\n",
    "\n",
    "def multiplicity(factor, n):\n",
    "    \"\"\" Find the maximum number of 'factor' in 'n' \"\"\"\n",
    "    cnt = 0\n",
    "    while n % factor == 0:\n",
    "        cnt += 1\n",
    "        n //= factor\n",
    "    return cnt\n",
    "\n",
    "mypair = pair(13,5)\n",
    "print(left(mypair))\n",
    "print(right(mypair))\n"
   ]
  },
  {
   "attachments": {},
   "cell_type": "markdown",
   "metadata": {},
   "source": [
    "2. 用函数表示（a，b）\n",
    "\n",
    "目标是把一个 pair 数对（a，b）转成一个函数 `p` ，且 `p(0) = a`, `p(1) = b`"
   ]
  },
  {
   "cell_type": "code",
   "execution_count": null,
   "metadata": {},
   "outputs": [],
   "source": [
    "def pair(a, b):\n",
    "    return lambda which: a if which==0 else b\n",
    "\n",
    "def left(p):\n",
    "    return p(0)\n",
    "\n",
    "def right(p):\n",
    "    return p(1)\n",
    "\n",
    "mypair = pair(13,5)\n",
    "print(left(mypair))\n",
    "print(right(mypair))\n"
   ]
  },
  {
   "attachments": {},
   "cell_type": "markdown",
   "metadata": {},
   "source": [
    "进一步，添加可以修改 pair 的函数 `set_left(pair, v)`, `set_right(pair, v)`\n",
    "\n",
    "期望达成的效果是能返回一个新的 pair 类型\n",
    "\n",
    "为此我们将 pair 函数重新定义，让 `which` 这个参数能指示更多的事情"
   ]
  },
  {
   "cell_type": "code",
   "execution_count": null,
   "metadata": {},
   "outputs": [],
   "source": [
    "def pair(a, b):\n",
    "    def pair_in_func(which, v=None):\n",
    "        nonlocal a, b\n",
    "        if which == 0:\n",
    "            return a\n",
    "        elif which == 1:\n",
    "            return b\n",
    "        elif which == 2:\n",
    "            a = v\n",
    "        else:\n",
    "            b = v\n",
    "    return pair_in_func\n"
   ]
  }
 ],
 "metadata": {
  "kernelspec": {
   "display_name": "Python 3",
   "language": "python",
   "name": "python3"
  },
  "language_info": {
   "codemirror_mode": {
    "name": "ipython",
    "version": 3
   },
   "file_extension": ".py",
   "mimetype": "text/x-python",
   "name": "python",
   "nbconvert_exporter": "python",
   "pygments_lexer": "ipython3",
   "version": "3.9.13"
  },
  "orig_nbformat": 4,
  "vscode": {
   "interpreter": {
    "hash": "b4833f2e7e025933a2f1007ef25cf8a596c6aa9e08fd7d4be94fb5b9d5956039"
   }
  }
 },
 "nbformat": 4,
 "nbformat_minor": 2
}
