{
 "cells": [
  {
   "attachments": {},
   "cell_type": "markdown",
   "metadata": {},
   "source": [
    "## Iterator 迭代器\n",
    "\n",
    "1. 返回 Iterator 的几种函数\n",
    "\n",
    "- `reversed(sequence)` : Iterate over item in `sequence` in reverse order.\n",
    "\n",
    "- `zip(*iterables)` : Iterate over co-indexed tuples with elements from\n",
    "each of the iterables.\n",
    "\n",
    "- `map(func, iterable, ...)` : Iterate over `func(x)` for `x` in iterable.\n",
    "\n",
    "    Same as `[func(x) for x in iterable]`\n",
    "\n",
    "- `filter(func, iterable)` : Iterate over `x` in `iterable` if `func(x) == True`.\n",
    "\n",
    "    Same as `[x for x in iterable if func(x)]`"
   ]
  },
  {
   "attachments": {},
   "cell_type": "markdown",
   "metadata": {},
   "source": [
    "2. `reversed(list)` 返回一个 generator，也就意味着不会对内容元素进行“确定”\n",
    "\n",
    "    而迭代器全部输出时，可以理解为 `b` 对 `a` 的**长度**进行了追踪，会对构建 generator 时 `a` 相应的元素位置进行迭代。因此下例中 `a.append(4)` 没有被打印，`a[0] = \"changed\"` 被打印"
   ]
  },
  {
   "cell_type": "code",
   "execution_count": null,
   "metadata": {},
   "outputs": [],
   "source": [
    "a = [1,2,3]\n",
    "b = reversed(a) # 产生一个 generator\n",
    "c = a[::-1] # 直接产生列表变量\n",
    "\n",
    "a.append(4)\n",
    "a[0] = \"changed\"\n",
    "for num in b:\n",
    "    print(num)  # 3 2 changed"
   ]
  },
  {
   "attachments": {},
   "cell_type": "markdown",
   "metadata": {},
   "source": [
    "3. 迭代类型迭代化后还是迭代类型（返回自身）\n",
    "\n",
    "这保证了一些表达式的正常运行，比如 `zip` `filter` ：\n",
    "\n",
    "因为大量的 `for xx in XXX` 的表达式实际会先取 `iter(XXX)`，故对于本身就返回迭代器的语句也能支持"
   ]
  },
  {
   "cell_type": "code",
   "execution_count": null,
   "metadata": {},
   "outputs": [],
   "source": [
    "a = ['a','b','c','d','e']\n",
    "b = ['A','B','C']\n",
    "\n",
    "letters = zip(a, b)\n",
    "for low, up in letters:\n",
    "    print(f\"{low} -> {up}\")     # 只到 c -> C"
   ]
  },
  {
   "cell_type": "code",
   "execution_count": null,
   "metadata": {},
   "outputs": [],
   "source": [
    "source = list(range(1, 11))\n",
    "for even in filter(lambda x: x%2==0, source):\n",
    "    print(even, end=' ')"
   ]
  },
  {
   "attachments": {},
   "cell_type": "markdown",
   "metadata": {},
   "source": [
    "4. Generator\n",
    "\n",
    "    A type of iterator that yields results from a generator function.\n",
    "\n",
    "- `yield` 更像一个暂停断点，遇到就会暂时退出函数并返回值，在调用 next() 时再从上一个 yield 处的下一行继续运行"
   ]
  },
  {
   "cell_type": "code",
   "execution_count": null,
   "metadata": {},
   "outputs": [],
   "source": [
    "# 产生 1-n 内的所有偶数\n",
    "def even(n):\n",
    "    num = 2\n",
    "    while num <= n:\n",
    "        yield num\n",
    "        num += 2\n",
    "\n",
    "ten = even(10)\n",
    "print(next(ten))\n",
    "print(next(ten))\n",
    "print(list(ten))"
   ]
  },
  {
   "attachments": {},
   "cell_type": "markdown",
   "metadata": {},
   "source": [
    "5. 关于 `yield` 的一些用法\n",
    "\n",
    "* `yield from XX`\n",
    "* 深度优先搜索"
   ]
  },
  {
   "cell_type": "code",
   "execution_count": 12,
   "metadata": {},
   "outputs": [
    {
     "name": "stdout",
     "output_type": "stream",
     "text": [
      "['A', 'B', 'C', 'D', 'E', 'F', 'G']\n"
     ]
    }
   ],
   "source": [
    "def one_after_another(list1, list2):\n",
    "    for thing in list1:\n",
    "        yield thing\n",
    "    for thing in list2:\n",
    "        yield thing\n",
    "# -----------------------------\n",
    "# Can be written as following:\n",
    "# -----------------------------\n",
    "def one_after_another(list1, list2):\n",
    "    yield from list1\n",
    "    yield from list2\n",
    "    \n",
    "letters = one_after_another(['A','B','C','D'], ['E','F','G'])\n",
    "print(list(letters))"
   ]
  },
  {
   "cell_type": "code",
   "execution_count": null,
   "metadata": {},
   "outputs": [],
   "source": [
    "def tree(label, childrens: list): ...\n",
    "def label(t): ...\n",
    "def branches(t): ...\n",
    "\n",
    "# 对于一棵树的所有节点, 按深度优先存进 generator 里\n",
    "def leaves(t):\n",
    "    yield(label(t))\n",
    "    for child in branches(t):\n",
    "        yield from leaves(child)\n"
   ]
  }
 ],
 "metadata": {
  "kernelspec": {
   "display_name": "Python 3",
   "language": "python",
   "name": "python3"
  },
  "language_info": {
   "codemirror_mode": {
    "name": "ipython",
    "version": 3
   },
   "file_extension": ".py",
   "mimetype": "text/x-python",
   "name": "python",
   "nbconvert_exporter": "python",
   "pygments_lexer": "ipython3",
   "version": "3.9.13"
  },
  "orig_nbformat": 4,
  "vscode": {
   "interpreter": {
    "hash": "b4833f2e7e025933a2f1007ef25cf8a596c6aa9e08fd7d4be94fb5b9d5956039"
   }
  }
 },
 "nbformat": 4,
 "nbformat_minor": 2
}
